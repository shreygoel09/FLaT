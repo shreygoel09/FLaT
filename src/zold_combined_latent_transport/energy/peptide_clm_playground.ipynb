{
 "cells": [
  {
   "cell_type": "code",
   "execution_count": 1,
   "metadata": {},
   "outputs": [
    {
     "name": "stderr",
     "output_type": "stream",
     "text": [
      "/home/a03-sgoel/.local/lib/python3.10/site-packages/tqdm/auto.py:21: TqdmWarning: IProgress not found. Please update jupyter and ipywidgets. See https://ipywidgets.readthedocs.io/en/stable/user_install.html\n",
      "  from .autonotebook import tqdm as notebook_tqdm\n"
     ]
    }
   ],
   "source": [
    "import pandas as pd\n",
    "from transformers import AutoModel\n",
    "from rdkit import Chem\n",
    "from rdkit.Chem import AllChem\n",
    "\n",
    "from src.latent_transport.energy.peptide_utils.tokenizer import SMILES_SPE_Tokenizer\n",
    "from src.latent_transport.energy.peptide_utils.embed import embed_smiles"
   ]
  },
  {
   "cell_type": "code",
   "execution_count": 2,
   "metadata": {},
   "outputs": [],
   "source": [
    "model = AutoModel.from_pretrained(\"aaronfeller/PeptideCLM-23M-all\")"
   ]
  },
  {
   "cell_type": "code",
   "execution_count": 3,
   "metadata": {},
   "outputs": [
    {
     "name": "stderr",
     "output_type": "stream",
     "text": [
      "/home/a03-sgoel/.local/lib/python3.10/site-packages/transformers/tokenization_utils_base.py:1601: FutureWarning: `clean_up_tokenization_spaces` was not set. It will be set to `True` by default. This behavior will be depracted in transformers v4.45, and will be then set to `False` by default. For more details check this issue: https://github.com/huggingface/transformers/issues/31884\n",
      "  warnings.warn(\n"
     ]
    }
   ],
   "source": [
    "vocab_file = \"/home/a03-sgoel/FLaT/src/latent_transport/energy/peptide_utils/new_vocab.txt\"\n",
    "splits_file = \"/home/a03-sgoel/FLaT/src/latent_transport/energy/peptide_utils/new_splits.txt\"\n",
    "\n",
    "tokenizer = SMILES_SPE_Tokenizer(vocab_file, splits_file)"
   ]
  },
  {
   "cell_type": "code",
   "execution_count": 4,
   "metadata": {},
   "outputs": [],
   "source": [
    "seqs = pd.read_csv(\"/home/a03-sgoel/FLaT/data/permeability/test.csv\")['Sequence'].tolist()"
   ]
  },
  {
   "cell_type": "code",
   "execution_count": 5,
   "metadata": {},
   "outputs": [
    {
     "name": "stderr",
     "output_type": "stream",
     "text": [
      "Asking to truncate to max_length but no maximum length is provided and the model has no predefined maximum length. Default to no truncation.\n"
     ]
    }
   ],
   "source": [
    "tokens = tokenizer(seqs[:3], return_tensors='pt', padding=True, truncation=True)"
   ]
  },
  {
   "cell_type": "code",
   "execution_count": 6,
   "metadata": {},
   "outputs": [
    {
     "data": {
      "text/plain": [
       "tensor([[  2,  29,  29,  30, 207,  67, 487, 197, 207, 487, 193, 196,  58, 207,\n",
       "          28, 198,  28, 197,   8, 174,   3,   0,   0,   0,   0,   0,   0,   0,\n",
       "           0,   0,   0,   0,   0,   0,   0,   0,   0,   0,   0,   0,   0,   0,\n",
       "           0,   0,   0,   0,   0,   0,   0,   0,   0,   0,   0,   0,   0,   0,\n",
       "           0,   0,   0,   0,   0,   0,   0,   0,   0,   0,   0,   0,   0,   0,\n",
       "           0,   0,   0,   0,   0,   0,   0,   0,   0,   0,   0,   0,   0,   0,\n",
       "           0,   0,   0,   0,   0,   0,   0,   0,   0,   0,   0,   0,   0,   0,\n",
       "           0,   0,   0,   0,   0,   0,   0,   0,   0,   0,   0,   0,   0,   0,\n",
       "           0,   0,   0,   0,   0,   0,   0,   0,   0,   0],\n",
       "        [  2,  29, 487, 193,   8, 487, 197, 207, 485,  13,  28, 137,   1, 137,\n",
       "          36,  13,   8, 207,  58,  13,  28, 137,   1, 137,  28, 485,  13, 207,\n",
       "          58, 485, 193, 136,  93, 195,  74, 271, 195,   8, 196,  91, 165, 207,\n",
       "          58, 485, 193,  28, 197,   8, 174,   8, 207,  58, 485, 193,  28, 193,\n",
       "           8, 194, 207,  59, 207,  58, 485, 193,  28, 207, 196, 207,  66,   3,\n",
       "           0,   0,   0,   0,   0,   0,   0,   0,   0,   0,   0,   0,   0,   0,\n",
       "           0,   0,   0,   0,   0,   0,   0,   0,   0,   0,   0,   0,   0,   0,\n",
       "           0,   0,   0,   0,   0,   0,   0,   0,   0,   0,   0,   0,   0,   0,\n",
       "           0,   0,   0,   0,   0,   0,   0,   0,   0,   0],\n",
       "        [  2,  29, 487, 193,   8, 485,  13,  58, 207, 487, 193,   8,  58, 193,\n",
       "           8, 207, 487, 193,  28, 193,   8, 194,  58, 193,   8, 207, 487, 193,\n",
       "         137,   1, 166,  58, 207, 487, 193,  28, 193,   8, 194,  58, 193,   8,\n",
       "         207, 487, 193,  28, 193,   8, 194,  58, 193,   8, 207, 487, 193,   8,\n",
       "          58, 193,   8, 207, 487, 193, 137,   1, 166,  58, 193,   8, 207, 485,\n",
       "         193,   8,  58, 193,   8, 207,  28, 485, 193, 271,  58, 487, 193, 271,\n",
       "          58,  14,  29,  30,  14,   8, 485, 193,   8,  28, 194,  58, 207, 487,\n",
       "         193,  28, 193,   8, 194,  58, 193,   8, 207, 487,   7, 485, 193,   8,\n",
       "         196,  58, 207, 487, 193, 196,  59,  13, 174,   3]])"
      ]
     },
     "execution_count": 6,
     "metadata": {},
     "output_type": "execute_result"
    }
   ],
   "source": [
    "tokens.input_ids"
   ]
  },
  {
   "cell_type": "code",
   "execution_count": 7,
   "metadata": {},
   "outputs": [],
   "source": [
    "embed = embed_smiles(tokens, model)"
   ]
  },
  {
   "cell_type": "code",
   "execution_count": null,
   "metadata": {},
   "outputs": [],
   "source": []
  }
 ],
 "metadata": {
  "kernelspec": {
   "display_name": "Python 3",
   "language": "python",
   "name": "python3"
  },
  "language_info": {
   "codemirror_mode": {
    "name": "ipython",
    "version": 3
   },
   "file_extension": ".py",
   "mimetype": "text/x-python",
   "name": "python",
   "nbconvert_exporter": "python",
   "pygments_lexer": "ipython3",
   "version": "3.10.12"
  }
 },
 "nbformat": 4,
 "nbformat_minor": 2
}
